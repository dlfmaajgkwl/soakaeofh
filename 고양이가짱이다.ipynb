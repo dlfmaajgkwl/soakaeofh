{
  "nbformat": 4,
  "nbformat_minor": 0,
  "metadata": {
    "colab": {
      "name": "고양이가짱이다.ipynb",
      "provenance": [],
      "collapsed_sections": [],
      "toc_visible": true,
      "authorship_tag": "ABX9TyO9smLlCTA/DRWUCPSoLvs1",
      "include_colab_link": true
    },
    "kernelspec": {
      "name": "python3",
      "display_name": "Python 3"
    },
    "language_info": {
      "name": "python"
    }
  },
  "cells": [
    {
      "cell_type": "markdown",
      "metadata": {
        "id": "view-in-github",
        "colab_type": "text"
      },
      "source": [
        "<a href=\"https://colab.research.google.com/github/dlfmaajgkwl/soakaeofh/blob/main/%EA%B3%A0%EC%96%91%EC%9D%B4%EA%B0%80%EC%A7%B1%EC%9D%B4%EB%8B%A4.ipynb\" target=\"_parent\"><img src=\"https://colab.research.google.com/assets/colab-badge.svg\" alt=\"Open In Colab\"/></a>"
      ]
    },
    {
      "cell_type": "markdown",
      "metadata": {
        "id": "yzoneg_QuZbW"
      },
      "source": [
        "# 이름 뭐하지 "
      ]
    },
    {
      "cell_type": "markdown",
      "metadata": {
        "id": "c9NphOX6vPsB"
      },
      "source": [
        "출력문이지롱"
      ]
    },
    {
      "cell_type": "code",
      "metadata": {
        "id": "TBQx-C2wpoN_",
        "colab": {
          "base_uri": "https://localhost:8080/"
        },
        "outputId": "3c1977fa-d8de-417a-9dfc-0147731300e1"
      },
      "source": [
        "print(\"hello world\")\n",
        "\n",
        "\n",
        "\n",
        "\n"
      ],
      "execution_count": 4,
      "outputs": [
        {
          "output_type": "stream",
          "name": "stdout",
          "text": [
            "hello world\n"
          ]
        }
      ]
    },
    {
      "cell_type": "code",
      "metadata": {
        "colab": {
          "base_uri": "https://localhost:8080/"
        },
        "id": "kpzNtlKysRCQ",
        "outputId": "bde654bb-c686-49b5-c151-0f85b0532e5d"
      },
      "source": [
        "print(\"덕원고\") "
      ],
      "execution_count": 5,
      "outputs": [
        {
          "output_type": "stream",
          "name": "stdout",
          "text": [
            "덕원고\n"
          ]
        }
      ]
    },
    {
      "cell_type": "code",
      "metadata": {
        "colab": {
          "base_uri": "https://localhost:8080/"
        },
        "id": "sG6yce5nu0YS",
        "outputId": "1cf4bdb8-ae6b-4638-a87b-aa99b0889519"
      },
      "source": [
        "print(3+5)"
      ],
      "execution_count": 9,
      "outputs": [
        {
          "output_type": "stream",
          "name": "stdout",
          "text": [
            "8\n"
          ]
        }
      ]
    },
    {
      "cell_type": "code",
      "metadata": {
        "id": "xZfCKPuMsupS"
      },
      "source": [
        "text = \"이형건쌤\""
      ],
      "execution_count": 6,
      "outputs": []
    },
    {
      "cell_type": "code",
      "metadata": {
        "id": "k-mcqkrNtFEK"
      },
      "source": [
        "text = \"박민영\""
      ],
      "execution_count": 7,
      "outputs": []
    },
    {
      "cell_type": "code",
      "metadata": {
        "colab": {
          "base_uri": "https://localhost:8080/"
        },
        "id": "BDHY3yV5tMKC",
        "outputId": "0035bafd-d321-47ba-81f7-753db5b2e5f8"
      },
      "source": [
        "print(text)"
      ],
      "execution_count": 8,
      "outputs": [
        {
          "output_type": "stream",
          "name": "stdout",
          "text": [
            "박민영\n"
          ]
        }
      ]
    },
    {
      "cell_type": "markdown",
      "metadata": {
        "id": "_5vZkhE-vdpP"
      },
      "source": [
        "# 입력문"
      ]
    },
    {
      "cell_type": "code",
      "metadata": {
        "colab": {
          "base_uri": "https://localhost:8080/"
        },
        "id": "ChdWaSRpvlYr",
        "outputId": "56609c4e-1442-4f23-d685-d1da62357dbc"
      },
      "source": [
        "#input 에베베베베벱베벱\n",
        "school = input(\"당신의 학교 이름을 입력하세요: \")\n",
        "print(\"당신의 학교 이름은 \" + school + \"입니까? \" )"
      ],
      "execution_count": 17,
      "outputs": [
        {
          "output_type": "stream",
          "name": "stdout",
          "text": [
            "당신의 학교 이름을 입력하세요: dkssud\n",
            "당신의 학교 이름은 dkssud입니까? \n"
          ]
        }
      ]
    },
    {
      "cell_type": "markdown",
      "metadata": {
        "id": "YdMu0jQp2peu"
      },
      "source": [
        "# 새로운거"
      ]
    },
    {
      "cell_type": "code",
      "metadata": {
        "colab": {
          "base_uri": "https://localhost:8080/"
        },
        "id": "JCHrB7Hd2y2z",
        "outputId": "e224bd7a-147f-495c-ffc3-75c74517fdf6"
      },
      "source": [
        "a = 101\n",
        "b = 99\n",
        "c = 120\n",
        "if a > b:\n",
        "  if c > a:     \n",
        "      print(\"최대 IQ: \", c)\n",
        "  else:\n",
        "        print(\"최대 IQ: \", a)\n",
        "else:\n",
        "  if c > b:\n",
        "      print(\"최대 IQ: \", c)\n",
        "  else:\n",
        "      print(\"최대  IQ: \", b)"
      ],
      "execution_count": 20,
      "outputs": [
        {
          "output_type": "stream",
          "name": "stdout",
          "text": [
            "최대 IQ:  120\n"
          ]
        }
      ]
    },
    {
      "cell_type": "markdown",
      "metadata": {
        "id": "tEYE07UC5O3t"
      },
      "source": [
        "# 새 섹션"
      ]
    },
    {
      "cell_type": "code",
      "metadata": {
        "colab": {
          "base_uri": "https://localhost:8080/"
        },
        "id": "-hP9CcyF5Pj1",
        "outputId": "4268c440-a233-4dce-a093-c9e639ccfb02"
      },
      "source": [
        "target_array = [2,1,5,3]\n",
        "max = target_array[0]\n",
        "for element in target_array:\n",
        "  if element > max:\n",
        "      max = element\n",
        "print(\"최대값: \", max)"
      ],
      "execution_count": 15,
      "outputs": [
        {
          "output_type": "stream",
          "name": "stdout",
          "text": [
            "최대값:  5\n"
          ]
        }
      ]
    },
    {
      "cell_type": "markdown",
      "metadata": {
        "id": "aClGzt-i_II1"
      },
      "source": [
        "# 새 섹션"
      ]
    },
    {
      "cell_type": "code",
      "metadata": {
        "colab": {
          "base_uri": "https://localhost:8080/"
        },
        "id": "BpjkT8fH_KOP",
        "outputId": "fa7e5518-3970-4197-9066-134c09608596"
      },
      "source": [
        "!pip3 install ColabTurtle "
      ],
      "execution_count": 21,
      "outputs": [
        {
          "output_type": "stream",
          "name": "stdout",
          "text": [
            "Collecting ColabTurtle\n",
            "  Downloading ColabTurtle-2.1.0.tar.gz (6.8 kB)\n",
            "Building wheels for collected packages: ColabTurtle\n",
            "  Building wheel for ColabTurtle (setup.py) ... \u001b[?25l\u001b[?25hdone\n",
            "  Created wheel for ColabTurtle: filename=ColabTurtle-2.1.0-py3-none-any.whl size=7655 sha256=da71678f7dff8ff0dca615da87c09945d45647ede2de6d1763625632c88352a7\n",
            "  Stored in directory: /root/.cache/pip/wheels/0d/ab/65/cc4478508751448dfb4ecb20a6533082855c227dfce8c13902\n",
            "Successfully built ColabTurtle\n",
            "Installing collected packages: ColabTurtle\n",
            "Successfully installed ColabTurtle-2.1.0\n"
          ]
        }
      ]
    },
    {
      "cell_type": "code",
      "metadata": {
        "colab": {
          "base_uri": "https://localhost:8080/",
          "height": 520
        },
        "id": "EjuJpz1f_wj3",
        "outputId": "0d036ea7-7df8-4fec-f8b8-273938e60a7e"
      },
      "source": [
        "from ColabTurtle.Turtle import * \n",
        "initializeTurtle()\n",
        "forward(50)\n",
        "right(90)\n",
        "forward(100)\n",
        "right(90)\n",
        "forward(50)\n",
        "right(90)\n",
        "forward(100)\n",
        "right(90)"
      ],
      "execution_count": 39,
      "outputs": [
        {
          "output_type": "display_data",
          "data": {
            "text/html": [
              "\n",
              "      <svg width=\"800\" height=\"500\">\n",
              "        <rect width=\"100%\" height=\"100%\" fill=\"black\"/>\n",
              "        <line x1=\"400\" y1=\"250\" x2=\"400.0\" y2=\"200.0\" stroke-linecap=\"round\" style=\"stroke:white;stroke-width:4\"/><line x1=\"400.0\" y1=\"200.0\" x2=\"500.0\" y2=\"200.0\" stroke-linecap=\"round\" style=\"stroke:white;stroke-width:4\"/><line x1=\"500.0\" y1=\"200.0\" x2=\"500.0\" y2=\"250.0\" stroke-linecap=\"round\" style=\"stroke:white;stroke-width:4\"/><line x1=\"500.0\" y1=\"250.0\" x2=\"400.0\" y2=\"250.0\" stroke-linecap=\"round\" style=\"stroke:white;stroke-width:4\"/>\n",
              "        <g visibility=visible transform=\"rotate(360,400.0,250.0) translate(382.0, 232.0)\">\n",
              "<path style=\" stroke:none;fill-rule:evenodd;fill:white;fill-opacity:1;\" d=\"M 18.214844 0.632812 C 16.109375 1.800781 15.011719 4.074219 15.074219 7.132812 L 15.085938 7.652344 L 14.785156 7.496094 C 13.476562 6.824219 11.957031 6.671875 10.40625 7.066406 C 8.46875 7.550781 6.515625 9.15625 4.394531 11.992188 C 3.0625 13.777344 2.679688 14.636719 3.042969 15.027344 L 3.15625 15.152344 L 3.519531 15.152344 C 4.238281 15.152344 4.828125 14.886719 8.1875 13.039062 C 9.386719 12.378906 10.371094 11.839844 10.378906 11.839844 C 10.386719 11.839844 10.355469 11.929688 10.304688 12.035156 C 9.832031 13.09375 9.257812 14.820312 8.96875 16.078125 C 7.914062 20.652344 8.617188 24.53125 11.070312 27.660156 C 11.351562 28.015625 11.363281 27.914062 10.972656 28.382812 C 8.925781 30.84375 7.945312 33.28125 8.238281 35.1875 C 8.289062 35.527344 8.28125 35.523438 8.917969 35.523438 C 10.941406 35.523438 13.074219 34.207031 15.136719 31.6875 C 15.359375 31.417969 15.328125 31.425781 15.5625 31.574219 C 16.292969 32.042969 18.023438 32.964844 18.175781 32.964844 C 18.335938 32.964844 19.941406 32.210938 20.828125 31.71875 C 20.996094 31.625 21.136719 31.554688 21.136719 31.558594 C 21.203125 31.664062 21.898438 32.414062 22.222656 32.730469 C 23.835938 34.300781 25.5625 35.132812 27.582031 35.300781 C 27.90625 35.328125 27.9375 35.308594 28.007812 34.984375 C 28.382812 33.242188 27.625 30.925781 25.863281 28.425781 L 25.542969 27.96875 L 25.699219 27.785156 C 28.945312 23.960938 29.132812 18.699219 26.257812 11.96875 L 26.207031 11.84375 L 27.945312 12.703125 C 31.53125 14.476562 32.316406 14.800781 33.03125 14.800781 C 33.976562 14.800781 33.78125 13.9375 32.472656 12.292969 C 28.519531 7.355469 25.394531 5.925781 21.921875 7.472656 L 21.558594 7.636719 L 21.578125 7.542969 C 21.699219 6.992188 21.761719 5.742188 21.699219 5.164062 C 21.496094 3.296875 20.664062 1.964844 19.003906 0.855469 C 18.480469 0.503906 18.457031 0.5 18.214844 0.632812\"/>\n",
              "</g>\n",
              "      </svg>\n",
              "    "
            ],
            "text/plain": [
              "<IPython.core.display.HTML object>"
            ]
          },
          "metadata": {}
        }
      ]
    },
    {
      "cell_type": "code",
      "metadata": {
        "colab": {
          "base_uri": "https://localhost:8080/",
          "height": 520
        },
        "id": "evYaehYdC5WU",
        "outputId": "6e937ed3-2def-40ec-d049-83cebc0025f4"
      },
      "source": [
        "initializeTurtle()\n",
        "for i in range(4):\n",
        "  forward(100)\n",
        "  right(90)"
      ],
      "execution_count": 44,
      "outputs": [
        {
          "output_type": "display_data",
          "data": {
            "text/html": [
              "\n",
              "      <svg width=\"800\" height=\"500\">\n",
              "        <rect width=\"100%\" height=\"100%\" fill=\"black\"/>\n",
              "        <line x1=\"400\" y1=\"250\" x2=\"400.0\" y2=\"150.0\" stroke-linecap=\"round\" style=\"stroke:white;stroke-width:4\"/><line x1=\"400.0\" y1=\"150.0\" x2=\"500.0\" y2=\"150.0\" stroke-linecap=\"round\" style=\"stroke:white;stroke-width:4\"/><line x1=\"500.0\" y1=\"150.0\" x2=\"500.0\" y2=\"250.0\" stroke-linecap=\"round\" style=\"stroke:white;stroke-width:4\"/><line x1=\"500.0\" y1=\"250.0\" x2=\"400.0\" y2=\"250.0\" stroke-linecap=\"round\" style=\"stroke:white;stroke-width:4\"/>\n",
              "        <g visibility=visible transform=\"rotate(360,400.0,250.0) translate(382.0, 232.0)\">\n",
              "<path style=\" stroke:none;fill-rule:evenodd;fill:white;fill-opacity:1;\" d=\"M 18.214844 0.632812 C 16.109375 1.800781 15.011719 4.074219 15.074219 7.132812 L 15.085938 7.652344 L 14.785156 7.496094 C 13.476562 6.824219 11.957031 6.671875 10.40625 7.066406 C 8.46875 7.550781 6.515625 9.15625 4.394531 11.992188 C 3.0625 13.777344 2.679688 14.636719 3.042969 15.027344 L 3.15625 15.152344 L 3.519531 15.152344 C 4.238281 15.152344 4.828125 14.886719 8.1875 13.039062 C 9.386719 12.378906 10.371094 11.839844 10.378906 11.839844 C 10.386719 11.839844 10.355469 11.929688 10.304688 12.035156 C 9.832031 13.09375 9.257812 14.820312 8.96875 16.078125 C 7.914062 20.652344 8.617188 24.53125 11.070312 27.660156 C 11.351562 28.015625 11.363281 27.914062 10.972656 28.382812 C 8.925781 30.84375 7.945312 33.28125 8.238281 35.1875 C 8.289062 35.527344 8.28125 35.523438 8.917969 35.523438 C 10.941406 35.523438 13.074219 34.207031 15.136719 31.6875 C 15.359375 31.417969 15.328125 31.425781 15.5625 31.574219 C 16.292969 32.042969 18.023438 32.964844 18.175781 32.964844 C 18.335938 32.964844 19.941406 32.210938 20.828125 31.71875 C 20.996094 31.625 21.136719 31.554688 21.136719 31.558594 C 21.203125 31.664062 21.898438 32.414062 22.222656 32.730469 C 23.835938 34.300781 25.5625 35.132812 27.582031 35.300781 C 27.90625 35.328125 27.9375 35.308594 28.007812 34.984375 C 28.382812 33.242188 27.625 30.925781 25.863281 28.425781 L 25.542969 27.96875 L 25.699219 27.785156 C 28.945312 23.960938 29.132812 18.699219 26.257812 11.96875 L 26.207031 11.84375 L 27.945312 12.703125 C 31.53125 14.476562 32.316406 14.800781 33.03125 14.800781 C 33.976562 14.800781 33.78125 13.9375 32.472656 12.292969 C 28.519531 7.355469 25.394531 5.925781 21.921875 7.472656 L 21.558594 7.636719 L 21.578125 7.542969 C 21.699219 6.992188 21.761719 5.742188 21.699219 5.164062 C 21.496094 3.296875 20.664062 1.964844 19.003906 0.855469 C 18.480469 0.503906 18.457031 0.5 18.214844 0.632812\"/>\n",
              "</g>\n",
              "      </svg>\n",
              "    "
            ],
            "text/plain": [
              "<IPython.core.display.HTML object>"
            ]
          },
          "metadata": {}
        }
      ]
    },
    {
      "cell_type": "code",
      "metadata": {
        "colab": {
          "base_uri": "https://localhost:8080/",
          "height": 520
        },
        "id": "NZ-t-AHCD5ro",
        "outputId": "1d71c065-2d09-4266-aba4-2e24aee27235"
      },
      "source": [
        "initializeTurtle()\n",
        "for i in range(2):\n",
        "  forward(50)\n",
        "  rt(90)\n",
        "  fd(100)\n",
        "  rt(90)"
      ],
      "execution_count": 47,
      "outputs": [
        {
          "output_type": "display_data",
          "data": {
            "text/html": [
              "\n",
              "      <svg width=\"800\" height=\"500\">\n",
              "        <rect width=\"100%\" height=\"100%\" fill=\"black\"/>\n",
              "        <line x1=\"400\" y1=\"250\" x2=\"400.0\" y2=\"200.0\" stroke-linecap=\"round\" style=\"stroke:white;stroke-width:4\"/><line x1=\"400.0\" y1=\"200.0\" x2=\"500.0\" y2=\"200.0\" stroke-linecap=\"round\" style=\"stroke:white;stroke-width:4\"/><line x1=\"500.0\" y1=\"200.0\" x2=\"500.0\" y2=\"250.0\" stroke-linecap=\"round\" style=\"stroke:white;stroke-width:4\"/><line x1=\"500.0\" y1=\"250.0\" x2=\"400.0\" y2=\"250.0\" stroke-linecap=\"round\" style=\"stroke:white;stroke-width:4\"/>\n",
              "        <g visibility=visible transform=\"rotate(360,400.0,250.0) translate(382.0, 232.0)\">\n",
              "<path style=\" stroke:none;fill-rule:evenodd;fill:white;fill-opacity:1;\" d=\"M 18.214844 0.632812 C 16.109375 1.800781 15.011719 4.074219 15.074219 7.132812 L 15.085938 7.652344 L 14.785156 7.496094 C 13.476562 6.824219 11.957031 6.671875 10.40625 7.066406 C 8.46875 7.550781 6.515625 9.15625 4.394531 11.992188 C 3.0625 13.777344 2.679688 14.636719 3.042969 15.027344 L 3.15625 15.152344 L 3.519531 15.152344 C 4.238281 15.152344 4.828125 14.886719 8.1875 13.039062 C 9.386719 12.378906 10.371094 11.839844 10.378906 11.839844 C 10.386719 11.839844 10.355469 11.929688 10.304688 12.035156 C 9.832031 13.09375 9.257812 14.820312 8.96875 16.078125 C 7.914062 20.652344 8.617188 24.53125 11.070312 27.660156 C 11.351562 28.015625 11.363281 27.914062 10.972656 28.382812 C 8.925781 30.84375 7.945312 33.28125 8.238281 35.1875 C 8.289062 35.527344 8.28125 35.523438 8.917969 35.523438 C 10.941406 35.523438 13.074219 34.207031 15.136719 31.6875 C 15.359375 31.417969 15.328125 31.425781 15.5625 31.574219 C 16.292969 32.042969 18.023438 32.964844 18.175781 32.964844 C 18.335938 32.964844 19.941406 32.210938 20.828125 31.71875 C 20.996094 31.625 21.136719 31.554688 21.136719 31.558594 C 21.203125 31.664062 21.898438 32.414062 22.222656 32.730469 C 23.835938 34.300781 25.5625 35.132812 27.582031 35.300781 C 27.90625 35.328125 27.9375 35.308594 28.007812 34.984375 C 28.382812 33.242188 27.625 30.925781 25.863281 28.425781 L 25.542969 27.96875 L 25.699219 27.785156 C 28.945312 23.960938 29.132812 18.699219 26.257812 11.96875 L 26.207031 11.84375 L 27.945312 12.703125 C 31.53125 14.476562 32.316406 14.800781 33.03125 14.800781 C 33.976562 14.800781 33.78125 13.9375 32.472656 12.292969 C 28.519531 7.355469 25.394531 5.925781 21.921875 7.472656 L 21.558594 7.636719 L 21.578125 7.542969 C 21.699219 6.992188 21.761719 5.742188 21.699219 5.164062 C 21.496094 3.296875 20.664062 1.964844 19.003906 0.855469 C 18.480469 0.503906 18.457031 0.5 18.214844 0.632812\"/>\n",
              "</g>\n",
              "      </svg>\n",
              "    "
            ],
            "text/plain": [
              "<IPython.core.display.HTML object>"
            ]
          },
          "metadata": {}
        }
      ]
    },
    {
      "cell_type": "code",
      "metadata": {
        "colab": {
          "base_uri": "https://localhost:8080/",
          "height": 520
        },
        "id": "BEzbFjiVBaz8",
        "outputId": "e1de66ef-028a-4fa0-b0f0-75b8e2513908"
      },
      "source": [
        "left(100)"
      ],
      "execution_count": 35,
      "outputs": [
        {
          "output_type": "display_data",
          "data": {
            "text/html": [
              "\n",
              "      <svg width=\"800\" height=\"500\">\n",
              "        <rect width=\"100%\" height=\"100%\" fill=\"black\"/>\n",
              "        <line x1=\"400\" y1=\"250\" x2=\"400.0\" y2=\"150.0\" stroke-linecap=\"round\" style=\"stroke:white;stroke-width:4\"/><line x1=\"400.0\" y1=\"150.0\" x2=\"400.0\" y2=\"300.0\" stroke-linecap=\"round\" style=\"stroke:white;stroke-width:4\"/>\n",
              "        <g visibility=visible transform=\"rotate(220,400.0,300.0) translate(382.0, 282.0)\">\n",
              "<path style=\" stroke:none;fill-rule:evenodd;fill:white;fill-opacity:1;\" d=\"M 18.214844 0.632812 C 16.109375 1.800781 15.011719 4.074219 15.074219 7.132812 L 15.085938 7.652344 L 14.785156 7.496094 C 13.476562 6.824219 11.957031 6.671875 10.40625 7.066406 C 8.46875 7.550781 6.515625 9.15625 4.394531 11.992188 C 3.0625 13.777344 2.679688 14.636719 3.042969 15.027344 L 3.15625 15.152344 L 3.519531 15.152344 C 4.238281 15.152344 4.828125 14.886719 8.1875 13.039062 C 9.386719 12.378906 10.371094 11.839844 10.378906 11.839844 C 10.386719 11.839844 10.355469 11.929688 10.304688 12.035156 C 9.832031 13.09375 9.257812 14.820312 8.96875 16.078125 C 7.914062 20.652344 8.617188 24.53125 11.070312 27.660156 C 11.351562 28.015625 11.363281 27.914062 10.972656 28.382812 C 8.925781 30.84375 7.945312 33.28125 8.238281 35.1875 C 8.289062 35.527344 8.28125 35.523438 8.917969 35.523438 C 10.941406 35.523438 13.074219 34.207031 15.136719 31.6875 C 15.359375 31.417969 15.328125 31.425781 15.5625 31.574219 C 16.292969 32.042969 18.023438 32.964844 18.175781 32.964844 C 18.335938 32.964844 19.941406 32.210938 20.828125 31.71875 C 20.996094 31.625 21.136719 31.554688 21.136719 31.558594 C 21.203125 31.664062 21.898438 32.414062 22.222656 32.730469 C 23.835938 34.300781 25.5625 35.132812 27.582031 35.300781 C 27.90625 35.328125 27.9375 35.308594 28.007812 34.984375 C 28.382812 33.242188 27.625 30.925781 25.863281 28.425781 L 25.542969 27.96875 L 25.699219 27.785156 C 28.945312 23.960938 29.132812 18.699219 26.257812 11.96875 L 26.207031 11.84375 L 27.945312 12.703125 C 31.53125 14.476562 32.316406 14.800781 33.03125 14.800781 C 33.976562 14.800781 33.78125 13.9375 32.472656 12.292969 C 28.519531 7.355469 25.394531 5.925781 21.921875 7.472656 L 21.558594 7.636719 L 21.578125 7.542969 C 21.699219 6.992188 21.761719 5.742188 21.699219 5.164062 C 21.496094 3.296875 20.664062 1.964844 19.003906 0.855469 C 18.480469 0.503906 18.457031 0.5 18.214844 0.632812\"/>\n",
              "</g>\n",
              "      </svg>\n",
              "    "
            ],
            "text/plain": [
              "<IPython.core.display.HTML object>"
            ]
          },
          "metadata": {}
        }
      ]
    },
    {
      "cell_type": "code",
      "metadata": {
        "colab": {
          "base_uri": "https://localhost:8080/",
          "height": 520
        },
        "id": "mo9Yoi2rFLVc",
        "outputId": "d31a69cb-f55b-4830-ede3-484c52122441"
      },
      "source": [
        "import numpy as np\n",
        "initializeTurtle()\n",
        "r = 100\n",
        "for i in range(100): \n",
        "  angle = (2 * np.pi)/100 * i\n",
        "  x = r * np.cos(angle)\n",
        "  y = r * np.sin(angle)\n",
        "  goto(350+x,200+y)"
      ],
      "execution_count": 52,
      "outputs": [
        {
          "output_type": "display_data",
          "data": {
            "text/html": [
              "\n",
              "      <svg width=\"800\" height=\"500\">\n",
              "        <rect width=\"100%\" height=\"100%\" fill=\"black\"/>\n",
              "        <line x1=\"400\" y1=\"250\" x2=\"450.0\" y2=\"200.0\" stroke-linecap=\"round\" style=\"stroke:white;stroke-width:4\"/><line x1=\"450.0\" y1=\"200.0\" x2=\"449.803\" y2=\"206.279\" stroke-linecap=\"round\" style=\"stroke:white;stroke-width:4\"/><line x1=\"449.803\" y1=\"206.279\" x2=\"449.211\" y2=\"212.533\" stroke-linecap=\"round\" style=\"stroke:white;stroke-width:4\"/><line x1=\"449.211\" y1=\"212.533\" x2=\"448.229\" y2=\"218.738\" stroke-linecap=\"round\" style=\"stroke:white;stroke-width:4\"/><line x1=\"448.229\" y1=\"218.738\" x2=\"446.858\" y2=\"224.869\" stroke-linecap=\"round\" style=\"stroke:white;stroke-width:4\"/><line x1=\"446.858\" y1=\"224.869\" x2=\"445.106\" y2=\"230.902\" stroke-linecap=\"round\" style=\"stroke:white;stroke-width:4\"/><line x1=\"445.106\" y1=\"230.902\" x2=\"442.978\" y2=\"236.812\" stroke-linecap=\"round\" style=\"stroke:white;stroke-width:4\"/><line x1=\"442.978\" y1=\"236.812\" x2=\"440.483\" y2=\"242.578\" stroke-linecap=\"round\" style=\"stroke:white;stroke-width:4\"/><line x1=\"440.483\" y1=\"242.578\" x2=\"437.631\" y2=\"248.175\" stroke-linecap=\"round\" style=\"stroke:white;stroke-width:4\"/><line x1=\"437.631\" y1=\"248.175\" x2=\"434.433\" y2=\"253.583\" stroke-linecap=\"round\" style=\"stroke:white;stroke-width:4\"/><line x1=\"434.433\" y1=\"253.583\" x2=\"430.902\" y2=\"258.779\" stroke-linecap=\"round\" style=\"stroke:white;stroke-width:4\"/><line x1=\"430.902\" y1=\"258.779\" x2=\"427.051\" y2=\"263.742\" stroke-linecap=\"round\" style=\"stroke:white;stroke-width:4\"/><line x1=\"427.051\" y1=\"263.742\" x2=\"422.897\" y2=\"268.455\" stroke-linecap=\"round\" style=\"stroke:white;stroke-width:4\"/><line x1=\"422.897\" y1=\"268.455\" x2=\"418.455\" y2=\"272.897\" stroke-linecap=\"round\" style=\"stroke:white;stroke-width:4\"/><line x1=\"418.455\" y1=\"272.897\" x2=\"413.742\" y2=\"277.051\" stroke-linecap=\"round\" style=\"stroke:white;stroke-width:4\"/><line x1=\"413.742\" y1=\"277.051\" x2=\"408.779\" y2=\"280.902\" stroke-linecap=\"round\" style=\"stroke:white;stroke-width:4\"/><line x1=\"408.779\" y1=\"280.902\" x2=\"403.583\" y2=\"284.433\" stroke-linecap=\"round\" style=\"stroke:white;stroke-width:4\"/><line x1=\"403.583\" y1=\"284.433\" x2=\"398.175\" y2=\"287.631\" stroke-linecap=\"round\" style=\"stroke:white;stroke-width:4\"/><line x1=\"398.175\" y1=\"287.631\" x2=\"392.578\" y2=\"290.483\" stroke-linecap=\"round\" style=\"stroke:white;stroke-width:4\"/><line x1=\"392.578\" y1=\"290.483\" x2=\"386.812\" y2=\"292.978\" stroke-linecap=\"round\" style=\"stroke:white;stroke-width:4\"/><line x1=\"386.812\" y1=\"292.978\" x2=\"380.902\" y2=\"295.106\" stroke-linecap=\"round\" style=\"stroke:white;stroke-width:4\"/><line x1=\"380.902\" y1=\"295.106\" x2=\"374.869\" y2=\"296.858\" stroke-linecap=\"round\" style=\"stroke:white;stroke-width:4\"/><line x1=\"374.869\" y1=\"296.858\" x2=\"368.738\" y2=\"298.229\" stroke-linecap=\"round\" style=\"stroke:white;stroke-width:4\"/><line x1=\"368.738\" y1=\"298.229\" x2=\"362.533\" y2=\"299.211\" stroke-linecap=\"round\" style=\"stroke:white;stroke-width:4\"/><line x1=\"362.533\" y1=\"299.211\" x2=\"356.279\" y2=\"299.803\" stroke-linecap=\"round\" style=\"stroke:white;stroke-width:4\"/><line x1=\"356.279\" y1=\"299.803\" x2=\"350.0\" y2=\"300.0\" stroke-linecap=\"round\" style=\"stroke:white;stroke-width:4\"/><line x1=\"350.0\" y1=\"300.0\" x2=\"343.721\" y2=\"299.803\" stroke-linecap=\"round\" style=\"stroke:white;stroke-width:4\"/><line x1=\"343.721\" y1=\"299.803\" x2=\"337.467\" y2=\"299.211\" stroke-linecap=\"round\" style=\"stroke:white;stroke-width:4\"/><line x1=\"337.467\" y1=\"299.211\" x2=\"331.262\" y2=\"298.229\" stroke-linecap=\"round\" style=\"stroke:white;stroke-width:4\"/><line x1=\"331.262\" y1=\"298.229\" x2=\"325.131\" y2=\"296.858\" stroke-linecap=\"round\" style=\"stroke:white;stroke-width:4\"/><line x1=\"325.131\" y1=\"296.858\" x2=\"319.098\" y2=\"295.106\" stroke-linecap=\"round\" style=\"stroke:white;stroke-width:4\"/><line x1=\"319.098\" y1=\"295.106\" x2=\"313.188\" y2=\"292.978\" stroke-linecap=\"round\" style=\"stroke:white;stroke-width:4\"/><line x1=\"313.188\" y1=\"292.978\" x2=\"307.422\" y2=\"290.483\" stroke-linecap=\"round\" style=\"stroke:white;stroke-width:4\"/><line x1=\"307.422\" y1=\"290.483\" x2=\"301.825\" y2=\"287.631\" stroke-linecap=\"round\" style=\"stroke:white;stroke-width:4\"/><line x1=\"301.825\" y1=\"287.631\" x2=\"296.417\" y2=\"284.433\" stroke-linecap=\"round\" style=\"stroke:white;stroke-width:4\"/><line x1=\"296.417\" y1=\"284.433\" x2=\"291.221\" y2=\"280.902\" stroke-linecap=\"round\" style=\"stroke:white;stroke-width:4\"/><line x1=\"291.221\" y1=\"280.902\" x2=\"286.258\" y2=\"277.051\" stroke-linecap=\"round\" style=\"stroke:white;stroke-width:4\"/><line x1=\"286.258\" y1=\"277.051\" x2=\"281.545\" y2=\"272.897\" stroke-linecap=\"round\" style=\"stroke:white;stroke-width:4\"/><line x1=\"281.545\" y1=\"272.897\" x2=\"277.103\" y2=\"268.455\" stroke-linecap=\"round\" style=\"stroke:white;stroke-width:4\"/><line x1=\"277.103\" y1=\"268.455\" x2=\"272.949\" y2=\"263.742\" stroke-linecap=\"round\" style=\"stroke:white;stroke-width:4\"/><line x1=\"272.949\" y1=\"263.742\" x2=\"269.098\" y2=\"258.779\" stroke-linecap=\"round\" style=\"stroke:white;stroke-width:4\"/><line x1=\"269.098\" y1=\"258.779\" x2=\"265.567\" y2=\"253.583\" stroke-linecap=\"round\" style=\"stroke:white;stroke-width:4\"/><line x1=\"265.567\" y1=\"253.583\" x2=\"262.369\" y2=\"248.175\" stroke-linecap=\"round\" style=\"stroke:white;stroke-width:4\"/><line x1=\"262.369\" y1=\"248.175\" x2=\"259.517\" y2=\"242.578\" stroke-linecap=\"round\" style=\"stroke:white;stroke-width:4\"/><line x1=\"259.517\" y1=\"242.578\" x2=\"257.022\" y2=\"236.812\" stroke-linecap=\"round\" style=\"stroke:white;stroke-width:4\"/><line x1=\"257.022\" y1=\"236.812\" x2=\"254.894\" y2=\"230.902\" stroke-linecap=\"round\" style=\"stroke:white;stroke-width:4\"/><line x1=\"254.894\" y1=\"230.902\" x2=\"253.142\" y2=\"224.869\" stroke-linecap=\"round\" style=\"stroke:white;stroke-width:4\"/><line x1=\"253.142\" y1=\"224.869\" x2=\"251.771\" y2=\"218.738\" stroke-linecap=\"round\" style=\"stroke:white;stroke-width:4\"/><line x1=\"251.771\" y1=\"218.738\" x2=\"250.789\" y2=\"212.533\" stroke-linecap=\"round\" style=\"stroke:white;stroke-width:4\"/><line x1=\"250.789\" y1=\"212.533\" x2=\"250.197\" y2=\"206.279\" stroke-linecap=\"round\" style=\"stroke:white;stroke-width:4\"/><line x1=\"250.197\" y1=\"206.279\" x2=\"250.0\" y2=\"200.0\" stroke-linecap=\"round\" style=\"stroke:white;stroke-width:4\"/><line x1=\"250.0\" y1=\"200.0\" x2=\"250.197\" y2=\"193.721\" stroke-linecap=\"round\" style=\"stroke:white;stroke-width:4\"/><line x1=\"250.197\" y1=\"193.721\" x2=\"250.789\" y2=\"187.467\" stroke-linecap=\"round\" style=\"stroke:white;stroke-width:4\"/><line x1=\"250.789\" y1=\"187.467\" x2=\"251.771\" y2=\"181.262\" stroke-linecap=\"round\" style=\"stroke:white;stroke-width:4\"/><line x1=\"251.771\" y1=\"181.262\" x2=\"253.142\" y2=\"175.131\" stroke-linecap=\"round\" style=\"stroke:white;stroke-width:4\"/><line x1=\"253.142\" y1=\"175.131\" x2=\"254.894\" y2=\"169.098\" stroke-linecap=\"round\" style=\"stroke:white;stroke-width:4\"/><line x1=\"254.894\" y1=\"169.098\" x2=\"257.022\" y2=\"163.188\" stroke-linecap=\"round\" style=\"stroke:white;stroke-width:4\"/><line x1=\"257.022\" y1=\"163.188\" x2=\"259.517\" y2=\"157.422\" stroke-linecap=\"round\" style=\"stroke:white;stroke-width:4\"/><line x1=\"259.517\" y1=\"157.422\" x2=\"262.369\" y2=\"151.825\" stroke-linecap=\"round\" style=\"stroke:white;stroke-width:4\"/><line x1=\"262.369\" y1=\"151.825\" x2=\"265.567\" y2=\"146.417\" stroke-linecap=\"round\" style=\"stroke:white;stroke-width:4\"/><line x1=\"265.567\" y1=\"146.417\" x2=\"269.098\" y2=\"141.221\" stroke-linecap=\"round\" style=\"stroke:white;stroke-width:4\"/><line x1=\"269.098\" y1=\"141.221\" x2=\"272.949\" y2=\"136.258\" stroke-linecap=\"round\" style=\"stroke:white;stroke-width:4\"/><line x1=\"272.949\" y1=\"136.258\" x2=\"277.103\" y2=\"131.545\" stroke-linecap=\"round\" style=\"stroke:white;stroke-width:4\"/><line x1=\"277.103\" y1=\"131.545\" x2=\"281.545\" y2=\"127.103\" stroke-linecap=\"round\" style=\"stroke:white;stroke-width:4\"/><line x1=\"281.545\" y1=\"127.103\" x2=\"286.258\" y2=\"122.949\" stroke-linecap=\"round\" style=\"stroke:white;stroke-width:4\"/><line x1=\"286.258\" y1=\"122.949\" x2=\"291.221\" y2=\"119.098\" stroke-linecap=\"round\" style=\"stroke:white;stroke-width:4\"/><line x1=\"291.221\" y1=\"119.098\" x2=\"296.417\" y2=\"115.567\" stroke-linecap=\"round\" style=\"stroke:white;stroke-width:4\"/><line x1=\"296.417\" y1=\"115.567\" x2=\"301.825\" y2=\"112.369\" stroke-linecap=\"round\" style=\"stroke:white;stroke-width:4\"/><line x1=\"301.825\" y1=\"112.369\" x2=\"307.422\" y2=\"109.517\" stroke-linecap=\"round\" style=\"stroke:white;stroke-width:4\"/><line x1=\"307.422\" y1=\"109.517\" x2=\"313.188\" y2=\"107.022\" stroke-linecap=\"round\" style=\"stroke:white;stroke-width:4\"/><line x1=\"313.188\" y1=\"107.022\" x2=\"319.098\" y2=\"104.894\" stroke-linecap=\"round\" style=\"stroke:white;stroke-width:4\"/><line x1=\"319.098\" y1=\"104.894\" x2=\"325.131\" y2=\"103.142\" stroke-linecap=\"round\" style=\"stroke:white;stroke-width:4\"/><line x1=\"325.131\" y1=\"103.142\" x2=\"331.262\" y2=\"101.771\" stroke-linecap=\"round\" style=\"stroke:white;stroke-width:4\"/><line x1=\"331.262\" y1=\"101.771\" x2=\"337.467\" y2=\"100.789\" stroke-linecap=\"round\" style=\"stroke:white;stroke-width:4\"/><line x1=\"337.467\" y1=\"100.789\" x2=\"343.721\" y2=\"100.197\" stroke-linecap=\"round\" style=\"stroke:white;stroke-width:4\"/><line x1=\"343.721\" y1=\"100.197\" x2=\"350.0\" y2=\"100.0\" stroke-linecap=\"round\" style=\"stroke:white;stroke-width:4\"/><line x1=\"350.0\" y1=\"100.0\" x2=\"356.279\" y2=\"100.197\" stroke-linecap=\"round\" style=\"stroke:white;stroke-width:4\"/><line x1=\"356.279\" y1=\"100.197\" x2=\"362.533\" y2=\"100.789\" stroke-linecap=\"round\" style=\"stroke:white;stroke-width:4\"/><line x1=\"362.533\" y1=\"100.789\" x2=\"368.738\" y2=\"101.771\" stroke-linecap=\"round\" style=\"stroke:white;stroke-width:4\"/><line x1=\"368.738\" y1=\"101.771\" x2=\"374.869\" y2=\"103.142\" stroke-linecap=\"round\" style=\"stroke:white;stroke-width:4\"/><line x1=\"374.869\" y1=\"103.142\" x2=\"380.902\" y2=\"104.894\" stroke-linecap=\"round\" style=\"stroke:white;stroke-width:4\"/><line x1=\"380.902\" y1=\"104.894\" x2=\"386.812\" y2=\"107.022\" stroke-linecap=\"round\" style=\"stroke:white;stroke-width:4\"/><line x1=\"386.812\" y1=\"107.022\" x2=\"392.578\" y2=\"109.517\" stroke-linecap=\"round\" style=\"stroke:white;stroke-width:4\"/><line x1=\"392.578\" y1=\"109.517\" x2=\"398.175\" y2=\"112.369\" stroke-linecap=\"round\" style=\"stroke:white;stroke-width:4\"/><line x1=\"398.175\" y1=\"112.369\" x2=\"403.583\" y2=\"115.567\" stroke-linecap=\"round\" style=\"stroke:white;stroke-width:4\"/><line x1=\"403.583\" y1=\"115.567\" x2=\"408.779\" y2=\"119.098\" stroke-linecap=\"round\" style=\"stroke:white;stroke-width:4\"/><line x1=\"408.779\" y1=\"119.098\" x2=\"413.742\" y2=\"122.949\" stroke-linecap=\"round\" style=\"stroke:white;stroke-width:4\"/><line x1=\"413.742\" y1=\"122.949\" x2=\"418.455\" y2=\"127.103\" stroke-linecap=\"round\" style=\"stroke:white;stroke-width:4\"/><line x1=\"418.455\" y1=\"127.103\" x2=\"422.897\" y2=\"131.545\" stroke-linecap=\"round\" style=\"stroke:white;stroke-width:4\"/><line x1=\"422.897\" y1=\"131.545\" x2=\"427.051\" y2=\"136.258\" stroke-linecap=\"round\" style=\"stroke:white;stroke-width:4\"/><line x1=\"427.051\" y1=\"136.258\" x2=\"430.902\" y2=\"141.221\" stroke-linecap=\"round\" style=\"stroke:white;stroke-width:4\"/><line x1=\"430.902\" y1=\"141.221\" x2=\"434.433\" y2=\"146.417\" stroke-linecap=\"round\" style=\"stroke:white;stroke-width:4\"/><line x1=\"434.433\" y1=\"146.417\" x2=\"437.631\" y2=\"151.825\" stroke-linecap=\"round\" style=\"stroke:white;stroke-width:4\"/><line x1=\"437.631\" y1=\"151.825\" x2=\"440.483\" y2=\"157.422\" stroke-linecap=\"round\" style=\"stroke:white;stroke-width:4\"/><line x1=\"440.483\" y1=\"157.422\" x2=\"442.978\" y2=\"163.188\" stroke-linecap=\"round\" style=\"stroke:white;stroke-width:4\"/><line x1=\"442.978\" y1=\"163.188\" x2=\"445.106\" y2=\"169.098\" stroke-linecap=\"round\" style=\"stroke:white;stroke-width:4\"/><line x1=\"445.106\" y1=\"169.098\" x2=\"446.858\" y2=\"175.131\" stroke-linecap=\"round\" style=\"stroke:white;stroke-width:4\"/><line x1=\"446.858\" y1=\"175.131\" x2=\"448.229\" y2=\"181.262\" stroke-linecap=\"round\" style=\"stroke:white;stroke-width:4\"/><line x1=\"448.229\" y1=\"181.262\" x2=\"449.211\" y2=\"187.467\" stroke-linecap=\"round\" style=\"stroke:white;stroke-width:4\"/><line x1=\"449.211\" y1=\"187.467\" x2=\"449.803\" y2=\"193.721\" stroke-linecap=\"round\" style=\"stroke:white;stroke-width:4\"/>\n",
              "        <g visibility=visible transform=\"rotate(360,449.803,193.721) translate(431.803, 175.721)\">\n",
              "<path style=\" stroke:none;fill-rule:evenodd;fill:white;fill-opacity:1;\" d=\"M 18.214844 0.632812 C 16.109375 1.800781 15.011719 4.074219 15.074219 7.132812 L 15.085938 7.652344 L 14.785156 7.496094 C 13.476562 6.824219 11.957031 6.671875 10.40625 7.066406 C 8.46875 7.550781 6.515625 9.15625 4.394531 11.992188 C 3.0625 13.777344 2.679688 14.636719 3.042969 15.027344 L 3.15625 15.152344 L 3.519531 15.152344 C 4.238281 15.152344 4.828125 14.886719 8.1875 13.039062 C 9.386719 12.378906 10.371094 11.839844 10.378906 11.839844 C 10.386719 11.839844 10.355469 11.929688 10.304688 12.035156 C 9.832031 13.09375 9.257812 14.820312 8.96875 16.078125 C 7.914062 20.652344 8.617188 24.53125 11.070312 27.660156 C 11.351562 28.015625 11.363281 27.914062 10.972656 28.382812 C 8.925781 30.84375 7.945312 33.28125 8.238281 35.1875 C 8.289062 35.527344 8.28125 35.523438 8.917969 35.523438 C 10.941406 35.523438 13.074219 34.207031 15.136719 31.6875 C 15.359375 31.417969 15.328125 31.425781 15.5625 31.574219 C 16.292969 32.042969 18.023438 32.964844 18.175781 32.964844 C 18.335938 32.964844 19.941406 32.210938 20.828125 31.71875 C 20.996094 31.625 21.136719 31.554688 21.136719 31.558594 C 21.203125 31.664062 21.898438 32.414062 22.222656 32.730469 C 23.835938 34.300781 25.5625 35.132812 27.582031 35.300781 C 27.90625 35.328125 27.9375 35.308594 28.007812 34.984375 C 28.382812 33.242188 27.625 30.925781 25.863281 28.425781 L 25.542969 27.96875 L 25.699219 27.785156 C 28.945312 23.960938 29.132812 18.699219 26.257812 11.96875 L 26.207031 11.84375 L 27.945312 12.703125 C 31.53125 14.476562 32.316406 14.800781 33.03125 14.800781 C 33.976562 14.800781 33.78125 13.9375 32.472656 12.292969 C 28.519531 7.355469 25.394531 5.925781 21.921875 7.472656 L 21.558594 7.636719 L 21.578125 7.542969 C 21.699219 6.992188 21.761719 5.742188 21.699219 5.164062 C 21.496094 3.296875 20.664062 1.964844 19.003906 0.855469 C 18.480469 0.503906 18.457031 0.5 18.214844 0.632812\"/>\n",
              "</g>\n",
              "      </svg>\n",
              "    "
            ],
            "text/plain": [
              "<IPython.core.display.HTML object>"
            ]
          },
          "metadata": {}
        }
      ]
    },
    {
      "cell_type": "code",
      "metadata": {
        "colab": {
          "base_uri": "https://localhost:8080/",
          "height": 520
        },
        "id": "AoXmCIrNJ312",
        "outputId": "b30c94be-1ccd-4cae-8270-40af0c883215"
      },
      "source": [
        "import numpy as np\n",
        "initializeTurtle()\n",
        "for i in range(3):\n",
        "  forward(100)\n",
        "  left(120)"
      ],
      "execution_count": 66,
      "outputs": [
        {
          "output_type": "display_data",
          "data": {
            "text/html": [
              "\n",
              "      <svg width=\"800\" height=\"500\">\n",
              "        <rect width=\"100%\" height=\"100%\" fill=\"black\"/>\n",
              "        <line x1=\"400\" y1=\"250\" x2=\"400.0\" y2=\"150.0\" stroke-linecap=\"round\" style=\"stroke:white;stroke-width:4\"/><line x1=\"400.0\" y1=\"150.0\" x2=\"313.397\" y2=\"200.0\" stroke-linecap=\"round\" style=\"stroke:white;stroke-width:4\"/><line x1=\"313.397\" y1=\"200.0\" x2=\"400.0\" y2=\"250.0\" stroke-linecap=\"round\" style=\"stroke:white;stroke-width:4\"/>\n",
              "        <g visibility=visible transform=\"rotate(360,400.0,250.0) translate(382.0, 232.0)\">\n",
              "<path style=\" stroke:none;fill-rule:evenodd;fill:white;fill-opacity:1;\" d=\"M 18.214844 0.632812 C 16.109375 1.800781 15.011719 4.074219 15.074219 7.132812 L 15.085938 7.652344 L 14.785156 7.496094 C 13.476562 6.824219 11.957031 6.671875 10.40625 7.066406 C 8.46875 7.550781 6.515625 9.15625 4.394531 11.992188 C 3.0625 13.777344 2.679688 14.636719 3.042969 15.027344 L 3.15625 15.152344 L 3.519531 15.152344 C 4.238281 15.152344 4.828125 14.886719 8.1875 13.039062 C 9.386719 12.378906 10.371094 11.839844 10.378906 11.839844 C 10.386719 11.839844 10.355469 11.929688 10.304688 12.035156 C 9.832031 13.09375 9.257812 14.820312 8.96875 16.078125 C 7.914062 20.652344 8.617188 24.53125 11.070312 27.660156 C 11.351562 28.015625 11.363281 27.914062 10.972656 28.382812 C 8.925781 30.84375 7.945312 33.28125 8.238281 35.1875 C 8.289062 35.527344 8.28125 35.523438 8.917969 35.523438 C 10.941406 35.523438 13.074219 34.207031 15.136719 31.6875 C 15.359375 31.417969 15.328125 31.425781 15.5625 31.574219 C 16.292969 32.042969 18.023438 32.964844 18.175781 32.964844 C 18.335938 32.964844 19.941406 32.210938 20.828125 31.71875 C 20.996094 31.625 21.136719 31.554688 21.136719 31.558594 C 21.203125 31.664062 21.898438 32.414062 22.222656 32.730469 C 23.835938 34.300781 25.5625 35.132812 27.582031 35.300781 C 27.90625 35.328125 27.9375 35.308594 28.007812 34.984375 C 28.382812 33.242188 27.625 30.925781 25.863281 28.425781 L 25.542969 27.96875 L 25.699219 27.785156 C 28.945312 23.960938 29.132812 18.699219 26.257812 11.96875 L 26.207031 11.84375 L 27.945312 12.703125 C 31.53125 14.476562 32.316406 14.800781 33.03125 14.800781 C 33.976562 14.800781 33.78125 13.9375 32.472656 12.292969 C 28.519531 7.355469 25.394531 5.925781 21.921875 7.472656 L 21.558594 7.636719 L 21.578125 7.542969 C 21.699219 6.992188 21.761719 5.742188 21.699219 5.164062 C 21.496094 3.296875 20.664062 1.964844 19.003906 0.855469 C 18.480469 0.503906 18.457031 0.5 18.214844 0.632812\"/>\n",
              "</g>\n",
              "      </svg>\n",
              "    "
            ],
            "text/plain": [
              "<IPython.core.display.HTML object>"
            ]
          },
          "metadata": {}
        }
      ]
    },
    {
      "cell_type": "code",
      "metadata": {
        "colab": {
          "base_uri": "https://localhost:8080/",
          "height": 520
        },
        "id": "SgyMvvLOKZlO",
        "outputId": "81370235-0329-42d7-8856-4b6ce8b7a689"
      },
      "source": [
        "import numpy as np\n",
        "initializeTurtle()\n",
        "for i in range(5):\n",
        "  color('red')\n",
        "  forward(100)\n",
        "  color('yellow')\n",
        "  forward(100)\n",
        "  left(72)"
      ],
      "execution_count": 74,
      "outputs": [
        {
          "output_type": "display_data",
          "data": {
            "text/html": [
              "\n",
              "      <svg width=\"800\" height=\"500\">\n",
              "        <rect width=\"100%\" height=\"100%\" fill=\"black\"/>\n",
              "        <line x1=\"400\" y1=\"250\" x2=\"400.0\" y2=\"150.0\" stroke-linecap=\"round\" style=\"stroke:red;stroke-width:4\"/><line x1=\"400.0\" y1=\"150.0\" x2=\"400.0\" y2=\"50.0\" stroke-linecap=\"round\" style=\"stroke:yellow;stroke-width:4\"/><line x1=\"400.0\" y1=\"50.0\" x2=\"304.894\" y2=\"19.098\" stroke-linecap=\"round\" style=\"stroke:red;stroke-width:4\"/><line x1=\"304.894\" y1=\"19.098\" x2=\"209.788\" y2=\"-11.804\" stroke-linecap=\"round\" style=\"stroke:yellow;stroke-width:4\"/><line x1=\"209.788\" y1=\"-11.804\" x2=\"151.009\" y2=\"69.098\" stroke-linecap=\"round\" style=\"stroke:red;stroke-width:4\"/><line x1=\"151.009\" y1=\"69.098\" x2=\"92.23\" y2=\"150.0\" stroke-linecap=\"round\" style=\"stroke:yellow;stroke-width:4\"/><line x1=\"92.23\" y1=\"150.0\" x2=\"151.009\" y2=\"230.902\" stroke-linecap=\"round\" style=\"stroke:red;stroke-width:4\"/><line x1=\"151.009\" y1=\"230.902\" x2=\"209.788\" y2=\"311.804\" stroke-linecap=\"round\" style=\"stroke:yellow;stroke-width:4\"/><line x1=\"209.788\" y1=\"311.804\" x2=\"304.894\" y2=\"280.902\" stroke-linecap=\"round\" style=\"stroke:red;stroke-width:4\"/><line x1=\"304.894\" y1=\"280.902\" x2=\"400.0\" y2=\"250.0\" stroke-linecap=\"round\" style=\"stroke:yellow;stroke-width:4\"/>\n",
              "        <g visibility=visible transform=\"rotate(360,400.0,250.0) translate(382.0, 232.0)\">\n",
              "<path style=\" stroke:none;fill-rule:evenodd;fill:yellow;fill-opacity:1;\" d=\"M 18.214844 0.632812 C 16.109375 1.800781 15.011719 4.074219 15.074219 7.132812 L 15.085938 7.652344 L 14.785156 7.496094 C 13.476562 6.824219 11.957031 6.671875 10.40625 7.066406 C 8.46875 7.550781 6.515625 9.15625 4.394531 11.992188 C 3.0625 13.777344 2.679688 14.636719 3.042969 15.027344 L 3.15625 15.152344 L 3.519531 15.152344 C 4.238281 15.152344 4.828125 14.886719 8.1875 13.039062 C 9.386719 12.378906 10.371094 11.839844 10.378906 11.839844 C 10.386719 11.839844 10.355469 11.929688 10.304688 12.035156 C 9.832031 13.09375 9.257812 14.820312 8.96875 16.078125 C 7.914062 20.652344 8.617188 24.53125 11.070312 27.660156 C 11.351562 28.015625 11.363281 27.914062 10.972656 28.382812 C 8.925781 30.84375 7.945312 33.28125 8.238281 35.1875 C 8.289062 35.527344 8.28125 35.523438 8.917969 35.523438 C 10.941406 35.523438 13.074219 34.207031 15.136719 31.6875 C 15.359375 31.417969 15.328125 31.425781 15.5625 31.574219 C 16.292969 32.042969 18.023438 32.964844 18.175781 32.964844 C 18.335938 32.964844 19.941406 32.210938 20.828125 31.71875 C 20.996094 31.625 21.136719 31.554688 21.136719 31.558594 C 21.203125 31.664062 21.898438 32.414062 22.222656 32.730469 C 23.835938 34.300781 25.5625 35.132812 27.582031 35.300781 C 27.90625 35.328125 27.9375 35.308594 28.007812 34.984375 C 28.382812 33.242188 27.625 30.925781 25.863281 28.425781 L 25.542969 27.96875 L 25.699219 27.785156 C 28.945312 23.960938 29.132812 18.699219 26.257812 11.96875 L 26.207031 11.84375 L 27.945312 12.703125 C 31.53125 14.476562 32.316406 14.800781 33.03125 14.800781 C 33.976562 14.800781 33.78125 13.9375 32.472656 12.292969 C 28.519531 7.355469 25.394531 5.925781 21.921875 7.472656 L 21.558594 7.636719 L 21.578125 7.542969 C 21.699219 6.992188 21.761719 5.742188 21.699219 5.164062 C 21.496094 3.296875 20.664062 1.964844 19.003906 0.855469 C 18.480469 0.503906 18.457031 0.5 18.214844 0.632812\"/>\n",
              "</g>\n",
              "      </svg>\n",
              "    "
            ],
            "text/plain": [
              "<IPython.core.display.HTML object>"
            ]
          },
          "metadata": {}
        }
      ]
    },
    {
      "cell_type": "code",
      "metadata": {
        "colab": {
          "base_uri": "https://localhost:8080/",
          "height": 520
        },
        "id": "QM-Vq7cBLxtZ",
        "outputId": "8c40018e-50ae-425c-ba46-ecb083d2faf5"
      },
      "source": [
        "import numpy as np\n",
        "initializeTurtle()\n",
        "for i in range(5):\n",
        "  forward(100)\n",
        "  left(144)"
      ],
      "execution_count": 77,
      "outputs": [
        {
          "output_type": "display_data",
          "data": {
            "text/html": [
              "\n",
              "      <svg width=\"800\" height=\"500\">\n",
              "        <rect width=\"100%\" height=\"100%\" fill=\"black\"/>\n",
              "        <line x1=\"400\" y1=\"250\" x2=\"400.0\" y2=\"150.0\" stroke-linecap=\"round\" style=\"stroke:white;stroke-width:4\"/><line x1=\"400.0\" y1=\"150.0\" x2=\"341.221\" y2=\"230.902\" stroke-linecap=\"round\" style=\"stroke:white;stroke-width:4\"/><line x1=\"341.221\" y1=\"230.902\" x2=\"436.327\" y2=\"200.0\" stroke-linecap=\"round\" style=\"stroke:white;stroke-width:4\"/><line x1=\"436.327\" y1=\"200.0\" x2=\"341.221\" y2=\"169.098\" stroke-linecap=\"round\" style=\"stroke:white;stroke-width:4\"/><line x1=\"341.221\" y1=\"169.098\" x2=\"400.0\" y2=\"250.0\" stroke-linecap=\"round\" style=\"stroke:white;stroke-width:4\"/>\n",
              "        <g visibility=visible transform=\"rotate(360,400.0,250.0) translate(382.0, 232.0)\">\n",
              "<path style=\" stroke:none;fill-rule:evenodd;fill:white;fill-opacity:1;\" d=\"M 18.214844 0.632812 C 16.109375 1.800781 15.011719 4.074219 15.074219 7.132812 L 15.085938 7.652344 L 14.785156 7.496094 C 13.476562 6.824219 11.957031 6.671875 10.40625 7.066406 C 8.46875 7.550781 6.515625 9.15625 4.394531 11.992188 C 3.0625 13.777344 2.679688 14.636719 3.042969 15.027344 L 3.15625 15.152344 L 3.519531 15.152344 C 4.238281 15.152344 4.828125 14.886719 8.1875 13.039062 C 9.386719 12.378906 10.371094 11.839844 10.378906 11.839844 C 10.386719 11.839844 10.355469 11.929688 10.304688 12.035156 C 9.832031 13.09375 9.257812 14.820312 8.96875 16.078125 C 7.914062 20.652344 8.617188 24.53125 11.070312 27.660156 C 11.351562 28.015625 11.363281 27.914062 10.972656 28.382812 C 8.925781 30.84375 7.945312 33.28125 8.238281 35.1875 C 8.289062 35.527344 8.28125 35.523438 8.917969 35.523438 C 10.941406 35.523438 13.074219 34.207031 15.136719 31.6875 C 15.359375 31.417969 15.328125 31.425781 15.5625 31.574219 C 16.292969 32.042969 18.023438 32.964844 18.175781 32.964844 C 18.335938 32.964844 19.941406 32.210938 20.828125 31.71875 C 20.996094 31.625 21.136719 31.554688 21.136719 31.558594 C 21.203125 31.664062 21.898438 32.414062 22.222656 32.730469 C 23.835938 34.300781 25.5625 35.132812 27.582031 35.300781 C 27.90625 35.328125 27.9375 35.308594 28.007812 34.984375 C 28.382812 33.242188 27.625 30.925781 25.863281 28.425781 L 25.542969 27.96875 L 25.699219 27.785156 C 28.945312 23.960938 29.132812 18.699219 26.257812 11.96875 L 26.207031 11.84375 L 27.945312 12.703125 C 31.53125 14.476562 32.316406 14.800781 33.03125 14.800781 C 33.976562 14.800781 33.78125 13.9375 32.472656 12.292969 C 28.519531 7.355469 25.394531 5.925781 21.921875 7.472656 L 21.558594 7.636719 L 21.578125 7.542969 C 21.699219 6.992188 21.761719 5.742188 21.699219 5.164062 C 21.496094 3.296875 20.664062 1.964844 19.003906 0.855469 C 18.480469 0.503906 18.457031 0.5 18.214844 0.632812\"/>\n",
              "</g>\n",
              "      </svg>\n",
              "    "
            ],
            "text/plain": [
              "<IPython.core.display.HTML object>"
            ]
          },
          "metadata": {}
        }
      ]
    },
    {
      "cell_type": "code",
      "metadata": {
        "colab": {
          "base_uri": "https://localhost:8080/",
          "height": 520
        },
        "id": "E3r9iKY6NF0e",
        "outputId": "f70722e1-9ef7-477d-b32f-d35398779f2e"
      },
      "source": [
        "import numpy as np\n",
        "initializeTurtle()\n",
        "for i in range(5):\n",
        " forward(100)\n",
        " right(130)\n",
        " forward(100)\n",
        " left(60)"
      ],
      "execution_count": 101,
      "outputs": [
        {
          "output_type": "display_data",
          "data": {
            "text/html": [
              "\n",
              "      <svg width=\"800\" height=\"500\">\n",
              "        <rect width=\"100%\" height=\"100%\" fill=\"black\"/>\n",
              "        <line x1=\"400\" y1=\"250\" x2=\"400.0\" y2=\"150.0\" stroke-linecap=\"round\" style=\"stroke:white;stroke-width:4\"/><line x1=\"400.0\" y1=\"150.0\" x2=\"476.604\" y2=\"214.279\" stroke-linecap=\"round\" style=\"stroke:white;stroke-width:4\"/><line x1=\"476.604\" y1=\"214.279\" x2=\"570.573\" y2=\"180.077\" stroke-linecap=\"round\" style=\"stroke:white;stroke-width:4\"/><line x1=\"570.573\" y1=\"180.077\" x2=\"536.371\" y2=\"274.046\" stroke-linecap=\"round\" style=\"stroke:white;stroke-width:4\"/><line x1=\"536.371\" y1=\"274.046\" x2=\"600.65\" y2=\"350.65\" stroke-linecap=\"round\" style=\"stroke:white;stroke-width:4\"/><line x1=\"600.65\" y1=\"350.65\" x2=\"500.65\" y2=\"350.65\" stroke-linecap=\"round\" style=\"stroke:white;stroke-width:4\"/><line x1=\"500.65\" y1=\"350.65\" x2=\"450.65\" y2=\"437.253\" stroke-linecap=\"round\" style=\"stroke:white;stroke-width:4\"/><line x1=\"450.65\" y1=\"437.253\" x2=\"416.448\" y2=\"343.284\" stroke-linecap=\"round\" style=\"stroke:white;stroke-width:4\"/><line x1=\"416.448\" y1=\"343.284\" x2=\"317.967\" y2=\"325.919\" stroke-linecap=\"round\" style=\"stroke:white;stroke-width:4\"/><line x1=\"317.967\" y1=\"325.919\" x2=\"394.571\" y2=\"261.64\" stroke-linecap=\"round\" style=\"stroke:white;stroke-width:4\"/>\n",
              "        <g visibility=visible transform=\"rotate(350,394.571,261.64) translate(376.571, 243.64)\">\n",
              "<path style=\" stroke:none;fill-rule:evenodd;fill:white;fill-opacity:1;\" d=\"M 18.214844 0.632812 C 16.109375 1.800781 15.011719 4.074219 15.074219 7.132812 L 15.085938 7.652344 L 14.785156 7.496094 C 13.476562 6.824219 11.957031 6.671875 10.40625 7.066406 C 8.46875 7.550781 6.515625 9.15625 4.394531 11.992188 C 3.0625 13.777344 2.679688 14.636719 3.042969 15.027344 L 3.15625 15.152344 L 3.519531 15.152344 C 4.238281 15.152344 4.828125 14.886719 8.1875 13.039062 C 9.386719 12.378906 10.371094 11.839844 10.378906 11.839844 C 10.386719 11.839844 10.355469 11.929688 10.304688 12.035156 C 9.832031 13.09375 9.257812 14.820312 8.96875 16.078125 C 7.914062 20.652344 8.617188 24.53125 11.070312 27.660156 C 11.351562 28.015625 11.363281 27.914062 10.972656 28.382812 C 8.925781 30.84375 7.945312 33.28125 8.238281 35.1875 C 8.289062 35.527344 8.28125 35.523438 8.917969 35.523438 C 10.941406 35.523438 13.074219 34.207031 15.136719 31.6875 C 15.359375 31.417969 15.328125 31.425781 15.5625 31.574219 C 16.292969 32.042969 18.023438 32.964844 18.175781 32.964844 C 18.335938 32.964844 19.941406 32.210938 20.828125 31.71875 C 20.996094 31.625 21.136719 31.554688 21.136719 31.558594 C 21.203125 31.664062 21.898438 32.414062 22.222656 32.730469 C 23.835938 34.300781 25.5625 35.132812 27.582031 35.300781 C 27.90625 35.328125 27.9375 35.308594 28.007812 34.984375 C 28.382812 33.242188 27.625 30.925781 25.863281 28.425781 L 25.542969 27.96875 L 25.699219 27.785156 C 28.945312 23.960938 29.132812 18.699219 26.257812 11.96875 L 26.207031 11.84375 L 27.945312 12.703125 C 31.53125 14.476562 32.316406 14.800781 33.03125 14.800781 C 33.976562 14.800781 33.78125 13.9375 32.472656 12.292969 C 28.519531 7.355469 25.394531 5.925781 21.921875 7.472656 L 21.558594 7.636719 L 21.578125 7.542969 C 21.699219 6.992188 21.761719 5.742188 21.699219 5.164062 C 21.496094 3.296875 20.664062 1.964844 19.003906 0.855469 C 18.480469 0.503906 18.457031 0.5 18.214844 0.632812\"/>\n",
              "</g>\n",
              "      </svg>\n",
              "    "
            ],
            "text/plain": [
              "<IPython.core.display.HTML object>"
            ]
          },
          "metadata": {}
        }
      ]
    },
    {
      "cell_type": "code",
      "metadata": {
        "colab": {
          "base_uri": "https://localhost:8080/"
        },
        "id": "tbLW4xJ_I3hf",
        "outputId": "00da4484-aa2c-4873-c5ee-1e67da05ef09"
      },
      "source": [
        "dir()"
      ],
      "execution_count": 65,
      "outputs": [
        {
          "output_type": "execute_result",
          "data": {
            "text/plain": [
              "['DEFAULT_BACKGROUND_COLOR',\n",
              " 'DEFAULT_IS_PEN_DOWN',\n",
              " 'DEFAULT_PEN_COLOR',\n",
              " 'DEFAULT_PEN_WIDTH',\n",
              " 'DEFAULT_SPEED',\n",
              " 'DEFAULT_SVG_LINES_STRING',\n",
              " 'DEFAULT_TURTLE_DEGREE',\n",
              " 'DEFAULT_TURTLE_SHAPE',\n",
              " 'DEFAULT_TURTLE_VISIBILITY',\n",
              " 'DEFAULT_WINDOW_SIZE',\n",
              " 'HTML',\n",
              " 'In',\n",
              " 'Out',\n",
              " 'SPEED_TO_SEC_MAP',\n",
              " 'SVG_TEMPLATE',\n",
              " 'TURTLE_CIRCLE_SVG_TEMPLATE',\n",
              " 'TURTLE_TURTLE_SVG_TEMPLATE',\n",
              " 'VALID_COLORS',\n",
              " 'VALID_COLORS_SET',\n",
              " 'VALID_TURTLE_SHAPES',\n",
              " '_',\n",
              " '_10',\n",
              " '_11',\n",
              " '__',\n",
              " '___',\n",
              " '__builtin__',\n",
              " '__builtins__',\n",
              " '__doc__',\n",
              " '__loader__',\n",
              " '__name__',\n",
              " '__package__',\n",
              " '__spec__',\n",
              " '_dh',\n",
              " '_exit_code',\n",
              " '_i',\n",
              " '_i1',\n",
              " '_i10',\n",
              " '_i11',\n",
              " '_i12',\n",
              " '_i13',\n",
              " '_i14',\n",
              " '_i15',\n",
              " '_i16',\n",
              " '_i17',\n",
              " '_i18',\n",
              " '_i19',\n",
              " '_i2',\n",
              " '_i20',\n",
              " '_i21',\n",
              " '_i22',\n",
              " '_i23',\n",
              " '_i24',\n",
              " '_i25',\n",
              " '_i26',\n",
              " '_i27',\n",
              " '_i28',\n",
              " '_i29',\n",
              " '_i3',\n",
              " '_i30',\n",
              " '_i31',\n",
              " '_i32',\n",
              " '_i33',\n",
              " '_i34',\n",
              " '_i35',\n",
              " '_i36',\n",
              " '_i37',\n",
              " '_i38',\n",
              " '_i39',\n",
              " '_i4',\n",
              " '_i40',\n",
              " '_i41',\n",
              " '_i42',\n",
              " '_i43',\n",
              " '_i44',\n",
              " '_i45',\n",
              " '_i46',\n",
              " '_i47',\n",
              " '_i48',\n",
              " '_i49',\n",
              " '_i5',\n",
              " '_i50',\n",
              " '_i51',\n",
              " '_i52',\n",
              " '_i53',\n",
              " '_i54',\n",
              " '_i55',\n",
              " '_i56',\n",
              " '_i57',\n",
              " '_i58',\n",
              " '_i59',\n",
              " '_i6',\n",
              " '_i60',\n",
              " '_i61',\n",
              " '_i62',\n",
              " '_i63',\n",
              " '_i64',\n",
              " '_i65',\n",
              " '_i7',\n",
              " '_i8',\n",
              " '_i9',\n",
              " '_ih',\n",
              " '_ii',\n",
              " '_iii',\n",
              " '_oh',\n",
              " '_sh',\n",
              " 'a',\n",
              " 'angle',\n",
              " 'b',\n",
              " 'back',\n",
              " 'background_color',\n",
              " 'backward',\n",
              " 'bgcolor',\n",
              " 'bk',\n",
              " 'c',\n",
              " 'clear',\n",
              " 'color',\n",
              " 'display',\n",
              " 'distance',\n",
              " 'down',\n",
              " 'drawing_window',\n",
              " 'element',\n",
              " 'exit',\n",
              " 'face',\n",
              " 'fd',\n",
              " 'forward',\n",
              " 'get_ipython',\n",
              " 'getheading',\n",
              " 'getx',\n",
              " 'gety',\n",
              " 'goto',\n",
              " 'heading',\n",
              " 'hideturtle',\n",
              " 'home',\n",
              " 'ht',\n",
              " 'i',\n",
              " 'initializeTurtle',\n",
              " 'is_pen_down',\n",
              " 'is_turtle_visible',\n",
              " 'isdown',\n",
              " 'isvisible',\n",
              " 'left',\n",
              " 'lt',\n",
              " 'math',\n",
              " 'max',\n",
              " 'np',\n",
              " 'pd',\n",
              " 'pen_color',\n",
              " 'pen_width',\n",
              " 'pencolor',\n",
              " 'pendown',\n",
              " 'pensize',\n",
              " 'penup',\n",
              " 'pos',\n",
              " 'position',\n",
              " 'pu',\n",
              " 'quit',\n",
              " 'r',\n",
              " 're',\n",
              " 'right',\n",
              " 'rt',\n",
              " 'school',\n",
              " 'seth',\n",
              " 'setheading',\n",
              " 'setpos',\n",
              " 'setposition',\n",
              " 'setx',\n",
              " 'sety',\n",
              " 'shape',\n",
              " 'showturtle',\n",
              " 'speed',\n",
              " 'st',\n",
              " 'svg_lines_string',\n",
              " 'target_array',\n",
              " 'text',\n",
              " 'time',\n",
              " 'turtle_degree',\n",
              " 'turtle_pos',\n",
              " 'turtle_shape',\n",
              " 'turtle_speed',\n",
              " 'up',\n",
              " 'width',\n",
              " 'window_height',\n",
              " 'window_size',\n",
              " 'window_width',\n",
              " 'write',\n",
              " 'x',\n",
              " 'xcor',\n",
              " 'y',\n",
              " 'ycor']"
            ]
          },
          "metadata": {},
          "execution_count": 65
        }
      ]
    }
  ]
}